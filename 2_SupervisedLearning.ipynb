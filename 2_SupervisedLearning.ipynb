{
 "cells": [
  {
   "cell_type": "markdown",
   "metadata": {},
   "source": [
    "# HaMLeT"
   ]
  },
  {
   "cell_type": "markdown",
   "metadata": {},
   "source": [
    "# Session 2: Supervised Learning"
   ]
  },
  {
   "cell_type": "markdown",
   "metadata": {},
   "source": [
    "## Goals of this session\n",
    "\n",
    "At the end of this session, you will have an understanding of the following:\n",
    "- Difference between supervised and unsupervised learning\n",
    "- What is meant by Classification in ML\n",
    "- Supervised Learning:\n",
    "    - Support Vector Machine (SVM)\n",
    "    - k-nearest neighbour\n",
    "    - Linear regression\n",
    "- Unsupervised Learning:\n",
    "    - k-means clustering\n",
    "    - GMM"
   ]
  },
  {
   "cell_type": "markdown",
   "metadata": {},
   "source": [
    "For most of the tasks in this notebook, we are going to use our knowledge about PCA from last session. So, instead of using the features of the Iris dataset directly, we are going to use the PCA features we calculated last time. It is advisable that you check the difference in results you obtain with the features directly versus with PCA for the tasks below. "
   ]
  },
  {
   "cell_type": "markdown",
   "metadata": {},
   "source": [
    "Let's first import some of the useful packages and the Iris dataset using `scikit`. We also perform PCA just as we did last time!"
   ]
  },
  {
   "cell_type": "code",
   "execution_count": 40,
   "metadata": {},
   "outputs": [],
   "source": [
    "import numpy as np\n",
    "import matplotlib.pyplot as plt\n",
    "from sklearn import datasets\n",
    "np.random.seed(seed=15) # to ensure reproducible reuslts\n",
    "\n",
    "iris = datasets.load_iris()\n",
    "features = iris.data[:,[0,1,2,3]]\n",
    "targets = iris.target"
   ]
  },
  {
   "cell_type": "markdown",
   "metadata": {},
   "source": [
    "## Recap: PCA"
   ]
  },
  {
   "cell_type": "code",
   "execution_count": 41,
   "metadata": {},
   "outputs": [
    {
     "data": {
      "image/png": "[encoded data removed]",
      "text/plain": [
       "<Figure size 432x288 with 1 Axes>"
      ]
     },
     "metadata": {
      "needs_background": "light"
     },
     "output_type": "display_data"
    }
   ],
   "source": [
    "# Data standarization\n",
    "from sklearn.preprocessing import StandardScaler\n",
    "features = StandardScaler().fit_transform(features)\n",
    "# PCA\n",
    "from sklearn.decomposition import PCA as sklearnPCA\n",
    "sklearn_pca = sklearnPCA(n_components=2)\n",
    "features_PCA = sklearn_pca.fit_transform(features)\n",
    "\n",
    "species = ('Iris-setosa', 'Iris-versicolor', 'Iris-virginica')\n",
    "colors = ('blue','green','red')\n",
    "\n",
    "# Plotting the relationship between PCA1 and PCA2\n",
    "feature1 = features_PCA[:, 0] \n",
    "feature2 = features_PCA[:, 1] \n",
    "    \n",
    "species = ('Iris-setosa', 'Iris-versicolor', 'Iris-virginica')\n",
    "colors = ('blue','green','red')\n",
    "data = [[features_PCA[np.where(targets == target)][:, feature] for feature in [0, 1]] for target in range(3)]\n",
    "\n",
    "for item, color, group in zip(data, colors, species):\n",
    "    plt.scatter(item[0], item[1], color=color)\n",
    "    plt.title('Projection matrix')\n",
    "plt.xlabel('PCA1')\n",
    "plt.ylabel('PCA2')\n",
    "plt.legend(species)\n",
    "plt.show()"
   ]
  },
  {
   "cell_type": "markdown",
   "metadata": {},
   "source": [
    "## 1. Supervised Learning (Classification of the Iris dataset)\n",
    "\n",
    "Classification tasks aim at predicting the class of a given data sample. For the Iris dataset, we want to predict which one of the three species a given sample belongs to. In supervised learning, we do so by 'learning' a model based on some training samples. We then use this trained model to make predictions on 'unseen' or test-dataset.\n",
    "\n",
    "Before we dive into any of the algorithms, we need to get introduced to the idea of splitting the datset into train and test sets. \n",
    "\n",
    "We know that the Iris dataset consists of 150 samples. Now, we will take 80% of the samples as our training set and the remaining as test set. We calculate the accuracy of our model on the test set. The common ML terminology is as follows: X_train, X_test are, respectively, the feature vectors for training and testing; and y_train and y_test are the corresponding labels for X_train and X_test. The predictions will be stored in y_pred."
   ]
  },
  {
   "cell_type": "markdown",
   "metadata": {},
   "source": [
    "**Task:** Using the `train_test_split` function of `sklearn`, split the PCA features obtained above in accordance with the standard ML naming convention (as explained above). \n",
    "\n",
    "Tip: Please use the default parameters for the split. You will learn this topic more in details in the next session ;)"
   ]
  },
  {
   "cell_type": "code",
   "execution_count": 42,
   "metadata": {},
   "outputs": [],
   "source": [
    "# Your code here:\n",
    "# Hint: import the necessary modules first\n",
    "\n",
    "import numpy as np\n",
    "from sklearn.model_selection import train_test_split\n",
    "X_train, X_test, y_train, y_test = train_test_split(features_PCA, targets, test_size=0.2)"
   ]
  },
  {
   "cell_type": "markdown",
   "metadata": {},
   "source": [
    "### 1.1 My very own classifier"
   ]
  },
  {
   "cell_type": "markdown",
   "metadata": {},
   "source": [
    "**Task:** Refer to the PCA plot above and design your own classifier (by completing the assisting code!). For this, you may define simple linear or non-linear conditions to classify the sample points into one of the three classes. \n",
    "\n",
    "Example condition: if PCA1 for given sample < -2, sample is Iris-Setosa"
   ]
  },
  {
   "cell_type": "code",
   "execution_count": 43,
   "metadata": {},
   "outputs": [],
   "source": [
    "# Complete the following lines of code: \n",
    "\n",
    "class StudentsClassifier:\n",
    "    def predict(self, X):\n",
    "        return np.array([self.predict_single(x) for x in X])\n",
    "    \n",
    "    def predict_single(self, X):\n",
    "        # X[0] = PCA feature 1\n",
    "        # X[1] = PCA feature 2\n",
    "        \n",
    "        # write a function that returns the index of the class\n",
    "        # e.g. if Iris-Setosa, return 0 \n",
    "        \n",
    "        # Your code here:\n",
    "        \n",
    "        if X[0] < -1:\n",
    "            return 0\n",
    "        elif X[0] < 1:\n",
    "            return 1\n",
    "        else:\n",
    "            return 2\n",
    "        \n"
   ]
  },
  {
   "cell_type": "markdown",
   "metadata": {},
   "source": [
    "### 1.2. Qualitative evaluation\n",
    "\n",
    "Below is a ready-to-use function to visualize classification boundaries. You are not required to understand it in detail but try to understand what inputs/outputs the functions require/produce. You will need to use these later in the notebook. "
   ]
  },
  {
   "cell_type": "code",
   "execution_count": 44,
   "metadata": {},
   "outputs": [],
   "source": [
    "def make_meshgrid(x, y, h=.02):\n",
    "    \"\"\"Create a mesh of points to plot in\n",
    "\n",
    "    Parameters\n",
    "    ----------\n",
    "    x: data to base x-axis meshgrid on\n",
    "    y: data to base y-axis meshgrid on\n",
    "    h: stepsize for meshgrid, optional\n",
    "\n",
    "    Returns\n",
    "    -------\n",
    "    xx, yy : ndarray\n",
    "    \"\"\"\n",
    "    x_min, x_max = x.min() - 1, x.max() + 1\n",
    "    y_min, y_max = y.min() - 1, y.max() + 1\n",
    "    xx, yy = np.meshgrid(np.arange(x_min, x_max, h),\n",
    "                         np.arange(y_min, y_max, h))\n",
    "    return xx, yy\n",
    "\n",
    "\n",
    "def plot_contours(clf, X, y, **params):\n",
    "    \"\"\"Plot the decision boundaries for a classifier.\n",
    "\n",
    "    Parameters\n",
    "    ----------\n",
    "    ax: matplotlib axes object\n",
    "    clf: a classifier\n",
    "    xx: meshgrid ndarray\n",
    "    yy: meshgrid ndarray\n",
    "    params: dictionary of params to pass to contourf, optional\n",
    "    \"\"\"\n",
    "    fig, ax = plt.subplots(constrained_layout=True)\n",
    "    \n",
    "    X0, X1 = X[:, 0], X[:, 1]\n",
    "    xx, yy = make_meshgrid(X0, X1)\n",
    "    \n",
    "    Z = clf.predict(np.c_[xx.ravel(), yy.ravel()])\n",
    "    Z = Z.reshape(xx.shape)\n",
    "    out = ax.contourf(xx, yy, Z, cmap=plt.cm.coolwarm, alpha=0.7)\n",
    "    \n",
    "    ax.scatter(X0, X1, c=y, cmap=plt.cm.coolwarm, s=30, edgecolors='k')\n",
    "    ax.set_xlim(xx.min(), xx.max())\n",
    "    ax.set_ylim(yy.min(), yy.max())\n",
    "    ax.set_xticks(())\n",
    "    ax.set_yticks(())\n",
    "    plt.show()"
   ]
  },
  {
   "cell_type": "markdown",
   "metadata": {},
   "source": [
    "**Task:** Using the function $plot\\_contours$, visualize the training boundaries obtained by your classifier by providing the correct arguments to it. "
   ]
  },
  {
   "cell_type": "code",
   "execution_count": 45,
   "metadata": {},
   "outputs": [
    {
     "data": {
      "image/png": "[encoded data removed]",
      "text/plain": [
       "<Figure size 432x288 with 1 Axes>"
      ]
     },
     "metadata": {},
     "output_type": "display_data"
    }
   ],
   "source": [
    "# Calling your classifier\n",
    "my_clf = StudentsClassifier()\n",
    "# Visualizing class boundaries for my_clf\n",
    "# Your code here:\n",
    "plot_contours(my_clf, X_train, y_train)\n"
   ]
  },
  {
   "cell_type": "markdown",
   "metadata": {},
   "source": [
    "### 1.3. Quantitative evaluation\n",
    "\n",
    "**Task:** First 'predict' the classes for X_test using the classifier you just defined above. And then calculate the accuracy on this test dataset. Use `scikit`'s `accuracy_score`.\n",
    "\n",
    "Hint: First import the necessary module."
   ]
  },
  {
   "cell_type": "code",
   "execution_count": 46,
   "metadata": {},
   "outputs": [
    {
     "name": "stdout",
     "output_type": "stream",
     "text": [
      "Accuracy: 0.9666666666666667\n"
     ]
    }
   ],
   "source": [
    "# Your code here:\n",
    "my_clf = StudentsClassifier()\n",
    "\n",
    "# y_pred = ? # Complete the code!\n",
    "prediction_first = my_clf.predict(X_test)\n",
    "from sklearn.metrics import accuracy_score\n",
    "acc = accuracy_score(y_test, prediction_first)\n",
    "print(\"Accuracy:\" , acc)\n",
    "\n",
    "\n"
   ]
  },
  {
   "cell_type": "markdown",
   "metadata": {},
   "source": [
    "### 1.4. Support Vector Machine\n",
    "\n",
    "SVMs are a powerful and flexible class of supervised algorithms for both classification and regression. They are memory efficient in that they use only a subset of the training points in the decision function (called support vectors). The simplest SVM uses a linear kernel to separate classes. "
   ]
  },
  {
   "cell_type": "markdown",
   "metadata": {},
   "source": [
    "**Task:** Using `sklearn`'s `svm`, implement a SVM with a linear kernel. Also perform a qualitative and a quantitative evaluation just as you did previously. "
   ]
  },
  {
   "cell_type": "code",
   "execution_count": 47,
   "metadata": {
    "scrolled": true
   },
   "outputs": [
    {
     "data": {
      "image/png": "[encoded data removed]",
      "text/plain": [
       "<Figure size 432x288 with 1 Axes>"
      ]
     },
     "metadata": {},
     "output_type": "display_data"
    },
    {
     "data": {
      "image/png": "[encoded data removed]",
      "text/plain": [
       "<Figure size 432x288 with 1 Axes>"
      ]
     },
     "metadata": {},
     "output_type": "display_data"
    },
    {
     "name": "stdout",
     "output_type": "stream",
     "text": [
      "Accuracy: 0.9666666666666667\n"
     ]
    }
   ],
   "source": [
    "from sklearn import svm\n",
    "\n",
    "# Example code: LinearSVC\n",
    "clf0 = svm.LinearSVC() # SVC = Support Vector Classifier\n",
    "# train clf0 on X_train and y_train\n",
    "clf0.fit(X_train, y_train)\n",
    "# visualize \n",
    "plot_contours(clf0, X_train, y_train)\n",
    "\n",
    "# Your code here:\n",
    "svm_pred = clf0.predict(X_test)\n",
    "acc_svm = accuracy_score(y_test, svm_pred)\n",
    "plot_contours(clf0, X_test, y_test)\n",
    "print(\"Accuracy:\" , acc_svm)\n"
   ]
  },
  {
   "cell_type": "markdown",
   "metadata": {},
   "source": [
    "**Question:** How is it in comparison to the your classifier? (Compare the accuracies).\n",
    "\n",
    "Answer: The accuracies are the same as our classifier.\n",
    "\n"
   ]
  },
  {
   "cell_type": "markdown",
   "metadata": {},
   "source": [
    "### 1.4. More on accuracy metrics\n",
    "\n",
    "The Confusion Matrix provides a better summary of the classification performance than just the accuracy score. The latter is often not the best measure for classification tasks involving more than two classes. Calculating a confusion matrix can give you a better idea of what your classification model is getting right and what types of errors it is making."
   ]
  },
  {
   "cell_type": "markdown",
   "metadata": {},
   "source": [
    "**Task:** Read up on Confusion Matrix if you are not familiar with the term. Then using `sklearn`'s `confusion_matrix` draw it and try to understand the perfomance of your classifier. \n",
    "\n",
    "Tip: You may also want to look into `sklearn`'s `classification_report` function. "
   ]
  },
  {
   "cell_type": "code",
   "execution_count": 48,
   "metadata": {},
   "outputs": [
    {
     "name": "stdout",
     "output_type": "stream",
     "text": [
      "[[ 8  0  0]\n",
      " [ 0 12  1]\n",
      " [ 0  0  9]]\n",
      "              precision    recall  f1-score   support\n",
      "\n",
      "           0       1.00      1.00      1.00         8\n",
      "           1       1.00      0.92      0.96        13\n",
      "           2       0.90      1.00      0.95         9\n",
      "\n",
      "    accuracy                           0.97        30\n",
      "   macro avg       0.97      0.97      0.97        30\n",
      "weighted avg       0.97      0.97      0.97        30\n",
      "\n"
     ]
    }
   ],
   "source": [
    "# Your code here:\n",
    "from sklearn.metrics import confusion_matrix, classification_report\n",
    "print(confusion_matrix(y_test, prediction_first))\n",
    "print(classification_report(y_test, prediction_first))\n",
    "\n",
    "\n"
   ]
  },
  {
   "cell_type": "markdown",
   "metadata": {},
   "source": [
    "### 1.5. Tuning the Hyperparameters\n",
    "\n",
    "There are several parameters that can help achieve better results (introduced in the Preparatory Material). \n",
    "\n",
    "- Kernel: Depending on the (expected) distribution of our classes, we can choose different types of functions, eg. linear, polynomial, and radial basis function (RBF). As might be obvious, the latter two are useful for non-linear hyperplane.\n",
    "\n",
    "- Regularization: `C` in scikit-learn is a penalty parameter that controls the flexibility allowed to the hyperplane. A smaller value of C creates a small-margin hyperplane and a larger value creates a larger-margin hyperplane. \n",
    "\n",
    "- Gamma: This defines how far the influence of a single training example reaches, with low values meaning ‘far’ and high values meaning ‘close’. A small gamma value define a Gaussian function with a large variance. In this case, two points can be considered similar even if are far from each other. In the other hand, a large gamma value means define a Gaussian function with a small variance and in this case, two points are considered similar just if they are close to each other."
   ]
  },
  {
   "cell_type": "markdown",
   "metadata": {},
   "source": [
    "**Task:** With a simple trial and error approach try to visualize and understand the effect of the hyperparameters and find an optimum classifier for the given dataset. You may use the metrices you learnt about to evaluate the performance of the different classifiers."
   ]
  },
  {
   "cell_type": "code",
   "execution_count": 49,
   "metadata": {},
   "outputs": [
    {
     "name": "stdout",
     "output_type": "stream",
     "text": [
      "Gaussian Kernel\n"
     ]
    },
    {
     "data": {
      "image/png": "[encoded data removed]",
      "text/plain": [
       "<Figure size 432x288 with 1 Axes>"
      ]
     },
     "metadata": {},
     "output_type": "display_data"
    },
    {
     "name": "stdout",
     "output_type": "stream",
     "text": [
      "Gaussian Kernel Accuracy: 1.0\n",
      "Polynomial Kernel\n"
     ]
    },
    {
     "data": {
      "image/png": "[encoded data removed]",
      "text/plain": [
       "<Figure size 432x288 with 1 Axes>"
      ]
     },
     "metadata": {},
     "output_type": "display_data"
    },
    {
     "name": "stdout",
     "output_type": "stream",
     "text": [
      "Polynomial Kernel Accuracy: 1.0\n"
     ]
    }
   ],
   "source": [
    "# Your code here:\n",
    "clf1 = svm.SVC(C = 1.0, kernel='rbf', gamma='auto')\n",
    "clf2 = svm.SVC(C = 1.0, kernel='poly' , degree=3, gamma='auto')\n",
    "clf1.fit(X_train, y_train)\n",
    "clf2.fit(X_train, y_train)\n",
    "print(\"Gaussian Kernel\")\n",
    "plot_contours(clf1, X_train, y_train)\n",
    "pred_gaussian = clf1.predict(X_test)\n",
    "acc_gaussian = accuracy_score(y_test, pred_gaussian)\n",
    "print(\"Gaussian Kernel Accuracy:\", acc_gaussian)\n",
    "print(\"Polynomial Kernel\")\n",
    "plot_contours(clf2, X_train, y_train)\n",
    "pred_poly = clf2.predict(X_test)\n",
    "acc_poly = accuracy_score(y_test, pred_poly)\n",
    "print(\"Polynomial Kernel Accuracy:\", acc_poly)\n",
    "\n"
   ]
  },
  {
   "cell_type": "markdown",
   "metadata": {},
   "source": [
    "### 1.6. k-nearest neighbour (knn)"
   ]
  },
  {
   "cell_type": "markdown",
   "metadata": {},
   "source": [
    "### knn Algorithm\n",
    "\n",
    "- Define a distance metric (Euclidean distance)\n",
    "- Choose a value for k (= the number of nearest neighbours) \n",
    "- Take k-nearest neighbors of the new data point, according to your distance metric\n",
    "- Assign the new data point the same category as its nearest neighbors"
   ]
  },
  {
   "cell_type": "markdown",
   "metadata": {},
   "source": [
    "### 1.7. My very own knn classifier\n",
    "\n",
    "We define our own knn classifier according to the above algorithm. "
   ]
  },
  {
   "cell_type": "markdown",
   "metadata": {},
   "source": [
    "**Task (Step 1):** Define a function that calculates the euclidean distance between two points. "
   ]
  },
  {
   "cell_type": "code",
   "execution_count": 50,
   "metadata": {},
   "outputs": [],
   "source": [
    "def my_ecd(v1, v2):\n",
    "    return np.linalg.norm(v1-v2)\n",
    "\n"
   ]
  },
  {
   "cell_type": "markdown",
   "metadata": {},
   "source": [
    "**Task (Step 2):** Define a function that uses my_ecd to calculate the distance between one single test data point with *all* the training data points. Save the distances *along with their respective indices* in a list. Return the *sorted* list as the output of the function. \n",
    "\n",
    "Hint: 1. To get indices, you may want to use `enumerate`.        2. You may use the function `sort` or `sorted`."
   ]
  },
  {
   "cell_type": "code",
   "execution_count": 54,
   "metadata": {},
   "outputs": [
    {
     "data": {
      "text/plain": [
       "[[0.0, 0],\n",
       " [0.04406567000098908, 86],\n",
       " [0.0748736240102596, 113],\n",
       " [0.10705469610848575, 5],\n",
       " [0.20853064525625836, 78],\n",
       " [0.2085306452562671, 80],\n",
       " [0.23153147157196366, 108],\n",
       " [0.25884620615071074, 77],\n",
       " [0.2848838226758648, 18],\n",
       " [0.28561817362878983, 107],\n",
       " [0.30035383969353974, 26],\n",
       " [0.3196608256966673, 96],\n",
       " [0.3448216278698404, 71],\n",
       " [0.35234429507408876, 12],\n",
       " [0.35753504523729923, 4],\n",
       " [0.44782625019731126, 8],\n",
       " [0.47472872438003744, 67],\n",
       " [0.5101029402404125, 85],\n",
       " [0.5721872889496739, 110],\n",
       " [0.5954416389547194, 112],\n",
       " [0.6515546209504313, 40],\n",
       " [0.6525815958593527, 106],\n",
       " [0.6743925493827568, 105],\n",
       " [0.6884887616904651, 46],\n",
       " [0.8177586911251989, 65],\n",
       " [0.8279383996902601, 60],\n",
       " [0.9528747288845213, 95],\n",
       " [0.9948177413434486, 53],\n",
       " [1.001703012527722, 75],\n",
       " [1.005206697956687, 52],\n",
       " [1.077979144438044, 32],\n",
       " [1.1686944235015424, 99],\n",
       " [1.2069294807029098, 69],\n",
       " [1.2095873699948358, 7],\n",
       " [1.3594422776916313, 50],\n",
       " [1.3816060363882372, 37],\n",
       " [1.3939977910435348, 39],\n",
       " [1.4878626724913302, 11],\n",
       " [1.5968865115256174, 16],\n",
       " [1.680528427055559, 61],\n",
       " [2.20625929176226, 102],\n",
       " [2.413199153350915, 42],\n",
       " [2.436853956199027, 63],\n",
       " [2.6044295008484766, 17],\n",
       " [2.6382358855836374, 98],\n",
       " [2.7010036012245924, 76],\n",
       " [2.7047899373035804, 104],\n",
       " [2.7185318174311273, 115],\n",
       " [2.742554459841634, 79],\n",
       " [2.803926684038178, 27],\n",
       " [2.846627060327161, 88],\n",
       " [2.881584893899583, 62],\n",
       " [2.924895795719754, 23],\n",
       " [2.987089305646493, 38],\n",
       " [2.9982307323334876, 56],\n",
       " [3.0035451018212673, 89],\n",
       " [3.0134444207145124, 44],\n",
       " [3.0254530573758136, 101],\n",
       " [3.0330543065593587, 24],\n",
       " [3.0577322396311946, 84],\n",
       " [3.0738283662227133, 57],\n",
       " [3.1252157439362587, 13],\n",
       " [3.140244254558657, 92],\n",
       " [3.1410035099019216, 59],\n",
       " [3.1473355548712783, 94],\n",
       " [3.147918911436195, 25],\n",
       " [3.222929441788924, 15],\n",
       " [3.223856147616886, 9],\n",
       " [3.2645546248263777, 14],\n",
       " [3.3118436455894638, 6],\n",
       " [3.330734967382946, 33],\n",
       " [3.388194500001782, 93],\n",
       " [3.4089970229692783, 83],\n",
       " [3.410387947283397, 43],\n",
       " [3.4661335133392512, 118],\n",
       " [3.483282554443671, 90],\n",
       " [3.5073685986089824, 68],\n",
       " [3.5083296575538565, 36],\n",
       " [3.5650381958067285, 64],\n",
       " [3.609676998107593, 111],\n",
       " [3.611454216128748, 31],\n",
       " [3.619928312342893, 54],\n",
       " [3.619928312342893, 73],\n",
       " [3.626158738953768, 51],\n",
       " [3.6351082124049494, 47],\n",
       " [3.6998478346444537, 82],\n",
       " [3.7242808886282277, 21],\n",
       " [3.742867454872738, 3],\n",
       " [3.7735569948142786, 2],\n",
       " [3.791746267115026, 49],\n",
       " [3.797612014417262, 45],\n",
       " [3.803219363399376, 70],\n",
       " [3.8446138436084483, 100],\n",
       " [3.885789532805784, 29],\n",
       " [3.8886305987900838, 20],\n",
       " [3.9711146007560783, 41],\n",
       " [4.0012163690366105, 19],\n",
       " [4.069244442129937, 74],\n",
       " [4.074091314914943, 34],\n",
       " [4.107632275943371, 116],\n",
       " [4.121415870354749, 58],\n",
       " [4.136253106797431, 97],\n",
       " [4.1366530821484755, 91],\n",
       " [4.151152679377854, 117],\n",
       " [4.1717530872112585, 55],\n",
       " [4.179617565372993, 28],\n",
       " [4.25190911981793, 87],\n",
       " [4.281606217699237, 119],\n",
       " [4.300675772268074, 35],\n",
       " [4.322664016434153, 1],\n",
       " [4.323897488846912, 66],\n",
       " [4.434451013754035, 48],\n",
       " [4.470721371382669, 103],\n",
       " [4.567535844045041, 72],\n",
       " [4.7058366927675594, 10],\n",
       " [5.026796318389552, 109],\n",
       " [5.048575387975252, 81],\n",
       " [5.077472021059831, 30],\n",
       " [5.1301258073826554, 22],\n",
       " [5.5945275293039725, 114]]"
      ]
     },
     "execution_count": 54,
     "metadata": {},
     "output_type": "execute_result"
    }
   ],
   "source": [
    "def my_distance_metric(X_train, single_test):\n",
    "    \"\"\"Calculates the distance between one test sample X_test and every sample in X_train.\n",
    "\n",
    "    Parameters:\n",
    "    X_train = all available training samples\n",
    "    single_test = one particular test sample\n",
    "    k = number of nearest neighbours\n",
    "    -----------\n",
    "    Returns: sorted distance list  \n",
    "    \"\"\"\n",
    "    dist_list = []\n",
    "    # Your code here:\n",
    "    # Define a for-loop to compute distance\n",
    "    for i, data in enumerate(X_train):\n",
    "        dist_list.append([my_ecd(single_test,data), i])\n",
    "    dist_list = sorted(dist_list)\n",
    "    return dist_list\n",
    "\n",
    "my_distance_metric(X_train,X_train[0])"
   ]
  },
  {
   "cell_type": "markdown",
   "metadata": {},
   "source": [
    "**Taks (Step 3):** Define a function to save the first k target values corresponding to dist_list obtained above. "
   ]
  },
  {
   "cell_type": "code",
   "execution_count": 66,
   "metadata": {},
   "outputs": [
    {
     "name": "stdout",
     "output_type": "stream",
     "text": [
      "[0 2 1 2 0 0 2 0 0 1 2 0 0 1 2 2 0 1 0 2 2 2 2 1 1 1 0 1 2 2 2 2 0 2 1 2 1\n",
      " 0 1 0 0 2 1 1 1 1 0 2 2 2 0 1 0 0 2 2 1 1 2 1 0 0 1 1 1 0 2 0 1 0 1 0 2 2\n",
      " 2 0 1 0 0 1 0 2 2 2 1 0 0 2 0 1 1 2 1 1 1 0 0 2 1 0 2 1 0 2 1 0 0 0 0 2 0\n",
      " 1 0 0 2 1 2 2 2 2]\n",
      "[  0  86 113   5  78]\n"
     ]
    },
    {
     "data": {
      "text/plain": [
       "array([0, 0, 0, 0, 0])"
      ]
     },
     "execution_count": 66,
     "metadata": {},
     "output_type": "execute_result"
    }
   ],
   "source": [
    "def my_target_list(dist_list, y_train, k): \n",
    "    # Your code here:\n",
    "    # make a list of the k neighbors' targets\n",
    "    dist_list = np.array(dist_list)\n",
    "    indices = dist_list[0:k,1]\n",
    "    indices = indices.astype(int)\n",
    "    target_list = y_train[indices]\n",
    "    print(y_train)\n",
    "    print(indices)\n",
    "\n",
    "    return target_list\n",
    "dist_listt = my_distance_metric(X_train,X_train[0])\n",
    "my_target_list(dist_listt, y_train, 5)"
   ]
  },
  {
   "cell_type": "markdown",
   "metadata": {},
   "source": [
    "**Task (Step 4):** Define a function that assigns predictions to the test data points. \n",
    "\n",
    "Hint: Use `most_common`method from the `Counter` object to get the target that occurs maximum number of times."
   ]
  },
  {
   "cell_type": "code",
   "execution_count": 73,
   "metadata": {},
   "outputs": [
    {
     "data": {
      "text/plain": [
       "2"
      ]
     },
     "execution_count": 73,
     "metadata": {},
     "output_type": "execute_result"
    }
   ],
   "source": [
    "from collections import Counter\n",
    "def my_predict(target_list):\n",
    "    # Your code here:\n",
    "    most_common_data = Counter(target_list).most_common(1)\n",
    "    return most_common_data[0][0]\n",
    "my_predict([0, 0, 1, 2, 2, 2]) # to try the function\n"
   ]
  },
  {
   "cell_type": "markdown",
   "metadata": {},
   "source": [
    "**Task (Step 5):** Finally define a function that loops through all data points predicting each one by one."
   ]
  },
  {
   "cell_type": "code",
   "execution_count": 79,
   "metadata": {},
   "outputs": [
    {
     "name": "stdout",
     "output_type": "stream",
     "text": [
      "[0 2 1 2 0 0 2 0 0 1 2 0 0 1 2 2 0 1 0 2 2 2 2 1 1 1 0 1 2 2 2 2 0 2 1 2 1\n",
      " 0 1 0 0 2 1 1 1 1 0 2 2 2 0 1 0 0 2 2 1 1 2 1 0 0 1 1 1 0 2 0 1 0 1 0 2 2\n",
      " 2 0 1 0 0 1 0 2 2 2 1 0 0 2 0 1 1 2 1 1 1 0 0 2 1 0 2 1 0 2 1 0 0 0 0 2 0\n",
      " 1 0 0 2 1 2 2 2 2]\n",
      "[12 71 67 77 46]\n",
      "[0 2 1 2 0 0 2 0 0 1 2 0 0 1 2 2 0 1 0 2 2 2 2 1 1 1 0 1 2 2 2 2 0 2 1 2 1\n",
      " 0 1 0 0 2 1 1 1 1 0 2 2 2 0 1 0 0 2 2 1 1 2 1 0 0 1 1 1 0 2 0 1 0 1 0 2 2\n",
      " 2 0 1 0 0 1 0 2 2 2 1 0 0 2 0 1 1 2 1 1 1 0 0 2 1 0 2 1 0 2 1 0 0 0 0 2 0\n",
      " 1 0 0 2 1 2 2 2 2]\n",
      "[76 23 84 17 98]\n",
      "[0 2 1 2 0 0 2 0 0 1 2 0 0 1 2 2 0 1 0 2 2 2 2 1 1 1 0 1 2 2 2 2 0 2 1 2 1\n",
      " 0 1 0 0 2 1 1 1 1 0 2 2 2 0 1 0 0 2 2 1 1 2 1 0 0 1 1 1 0 2 0 1 0 1 0 2 2\n",
      " 2 0 1 0 0 1 0 2 2 2 1 0 0 2 0 1 1 2 1 1 1 0 0 2 1 0 2 1 0 2 1 0 0 0 0 2 0\n",
      " 1 0 0 2 1 2 2 2 2]\n",
      "[ 38  13  44  62 104]\n",
      "[0 2 1 2 0 0 2 0 0 1 2 0 0 1 2 2 0 1 0 2 2 2 2 1 1 1 0 1 2 2 2 2 0 2 1 2 1\n",
      " 0 1 0 0 2 1 1 1 1 0 2 2 2 0 1 0 0 2 2 1 1 2 1 0 0 1 1 1 0 2 0 1 0 1 0 2 2\n",
      " 2 0 1 0 0 1 0 2 2 2 1 0 0 2 0 1 1 2 1 1 1 0 0 2 1 0 2 1 0 2 1 0 0 0 0 2 0\n",
      " 1 0 0 2 1 2 2 2 2]\n",
      "[95 99 32 65 69]\n",
      "[0 2 1 2 0 0 2 0 0 1 2 0 0 1 2 2 0 1 0 2 2 2 2 1 1 1 0 1 2 2 2 2 0 2 1 2 1\n",
      " 0 1 0 0 2 1 1 1 1 0 2 2 2 0 1 0 0 2 2 1 1 2 1 0 0 1 1 1 0 2 0 1 0 1 0 2 2\n",
      " 2 0 1 0 0 1 0 2 2 2 1 0 0 2 0 1 1 2 1 1 1 0 0 2 1 0 2 1 0 2 1 0 0 0 0 2 0\n",
      " 1 0 0 2 1 2 2 2 2]\n",
      "[ 4 26 96 18 80]\n",
      "[0 2 1 2 0 0 2 0 0 1 2 0 0 1 2 2 0 1 0 2 2 2 2 1 1 1 0 1 2 2 2 2 0 2 1 2 1\n",
      " 0 1 0 0 2 1 1 1 1 0 2 2 2 0 1 0 0 2 2 1 1 2 1 0 0 1 1 1 0 2 0 1 0 1 0 2 2\n",
      " 2 0 1 0 0 1 0 2 2 2 1 0 0 2 0 1 1 2 1 1 1 0 0 2 1 0 2 1 0 2 1 0 0 0 0 2 0\n",
      " 1 0 0 2 1 2 2 2 2]\n",
      "[79 27 98 62 24]\n",
      "[0 2 1 2 0 0 2 0 0 1 2 0 0 1 2 2 0 1 0 2 2 2 2 1 1 1 0 1 2 2 2 2 0 2 1 2 1\n",
      " 0 1 0 0 2 1 1 1 1 0 2 2 2 0 1 0 0 2 2 1 1 2 1 0 0 1 1 1 0 2 0 1 0 1 0 2 2\n",
      " 2 0 1 0 0 1 0 2 2 2 1 0 0 2 0 1 1 2 1 1 1 0 0 2 1 0 2 1 0 2 1 0 0 0 0 2 0\n",
      " 1 0 0 2 1 2 2 2 2]\n",
      "[22 81 35 87 66]\n",
      "[0 2 1 2 0 0 2 0 0 1 2 0 0 1 2 2 0 1 0 2 2 2 2 1 1 1 0 1 2 2 2 2 0 2 1 2 1\n",
      " 0 1 0 0 2 1 1 1 1 0 2 2 2 0 1 0 0 2 2 1 1 2 1 0 0 1 1 1 0 2 0 1 0 1 0 2 2\n",
      " 2 0 1 0 0 1 0 2 2 2 1 0 0 2 0 1 1 2 1 1 1 0 0 2 1 0 2 1 0 2 1 0 0 0 0 2 0\n",
      " 1 0 0 2 1 2 2 2 2]\n",
      "[ 57  59  25 104  44]\n",
      "[0 2 1 2 0 0 2 0 0 1 2 0 0 1 2 2 0 1 0 2 2 2 2 1 1 1 0 1 2 2 2 2 0 2 1 2 1\n",
      " 0 1 0 0 2 1 1 1 1 0 2 2 2 0 1 0 0 2 2 1 1 2 1 0 0 1 1 1 0 2 0 1 0 1 0 2 2\n",
      " 2 0 1 0 0 1 0 2 2 2 1 0 0 2 0 1 1 2 1 1 1 0 0 2 1 0 2 1 0 2 1 0 0 0 0 2 0\n",
      " 1 0 0 2 1 2 2 2 2]\n",
      "[104  44  38  62  27]\n",
      "[0 2 1 2 0 0 2 0 0 1 2 0 0 1 2 2 0 1 0 2 2 2 2 1 1 1 0 1 2 2 2 2 0 2 1 2 1\n",
      " 0 1 0 0 2 1 1 1 1 0 2 2 2 0 1 0 0 2 2 1 1 2 1 0 0 1 1 1 0 2 0 1 0 1 0 2 2\n",
      " 2 0 1 0 0 1 0 2 2 2 1 0 0 2 0 1 1 2 1 1 1 0 0 2 1 0 2 1 0 2 1 0 0 0 0 2 0\n",
      " 1 0 0 2 1 2 2 2 2]\n",
      "[ 64   3  49 116  51]\n",
      "[0 2 1 2 0 0 2 0 0 1 2 0 0 1 2 2 0 1 0 2 2 2 2 1 1 1 0 1 2 2 2 2 0 2 1 2 1\n",
      " 0 1 0 0 2 1 1 1 1 0 2 2 2 0 1 0 0 2 2 1 1 2 1 0 0 1 1 1 0 2 0 1 0 1 0 2 2\n",
      " 2 0 1 0 0 1 0 2 2 2 1 0 0 2 0 1 1 2 1 1 1 0 0 2 1 0 2 1 0 2 1 0 0 0 0 2 0\n",
      " 1 0 0 2 1 2 2 2 2]\n",
      "[118  43  21  64 100]\n",
      "[0 2 1 2 0 0 2 0 0 1 2 0 0 1 2 2 0 1 0 2 2 2 2 1 1 1 0 1 2 2 2 2 0 2 1 2 1\n",
      " 0 1 0 0 2 1 1 1 1 0 2 2 2 0 1 0 0 2 2 1 1 2 1 0 0 1 1 1 0 2 0 1 0 1 0 2 2\n",
      " 2 0 1 0 0 1 0 2 2 2 1 0 0 2 0 1 1 2 1 1 1 0 0 2 1 0 2 1 0 2 1 0 0 0 0 2 0\n",
      " 1 0 0 2 1 2 2 2 2]\n",
      "[84 23 76 24 17]\n",
      "[0 2 1 2 0 0 2 0 0 1 2 0 0 1 2 2 0 1 0 2 2 2 2 1 1 1 0 1 2 2 2 2 0 2 1 2 1\n",
      " 0 1 0 0 2 1 1 1 1 0 2 2 2 0 1 0 0 2 2 1 1 2 1 0 0 1 1 1 0 2 0 1 0 1 0 2 2\n",
      " 2 0 1 0 0 1 0 2 2 2 1 0 0 2 0 1 1 2 1 1 1 0 0 2 1 0 2 1 0 2 1 0 0 0 0 2 0\n",
      " 1 0 0 2 1 2 2 2 2]\n",
      "[23 84 15  9 14]\n",
      "[0 2 1 2 0 0 2 0 0 1 2 0 0 1 2 2 0 1 0 2 2 2 2 1 1 1 0 1 2 2 2 2 0 2 1 2 1\n",
      " 0 1 0 0 2 1 1 1 1 0 2 2 2 0 1 0 0 2 2 1 1 2 1 0 0 1 1 1 0 2 0 1 0 1 0 2 2\n",
      " 2 0 1 0 0 1 0 2 2 2 1 0 0 2 0 1 1 2 1 1 1 0 0 2 1 0 2 1 0 2 1 0 0 0 0 2 0\n",
      " 1 0 0 2 1 2 2 2 2]\n",
      "[ 27  62  79  38 104]\n",
      "[0 2 1 2 0 0 2 0 0 1 2 0 0 1 2 2 0 1 0 2 2 2 2 1 1 1 0 1 2 2 2 2 0 2 1 2 1\n",
      " 0 1 0 0 2 1 1 1 1 0 2 2 2 0 1 0 0 2 2 1 1 2 1 0 0 1 1 1 0 2 0 1 0 1 0 2 2\n",
      " 2 0 1 0 0 1 0 2 2 2 1 0 0 2 0 1 1 2 1 1 1 0 0 2 1 0 2 1 0 2 1 0 0 0 0 2 0\n",
      " 1 0 0 2 1 2 2 2 2]\n",
      "[47 58 55 31 36]\n",
      "[0 2 1 2 0 0 2 0 0 1 2 0 0 1 2 2 0 1 0 2 2 2 2 1 1 1 0 1 2 2 2 2 0 2 1 2 1\n",
      " 0 1 0 0 2 1 1 1 1 0 2 2 2 0 1 0 0 2 2 1 1 2 1 0 0 1 1 1 0 2 0 1 0 1 0 2 2\n",
      " 2 0 1 0 0 1 0 2 2 2 1 0 0 2 0 1 1 2 1 1 1 0 0 2 1 0 2 1 0 2 1 0 0 0 0 2 0\n",
      " 1 0 0 2 1 2 2 2 2]\n",
      "[99 69 95  7 32]\n",
      "[0 2 1 2 0 0 2 0 0 1 2 0 0 1 2 2 0 1 0 2 2 2 2 1 1 1 0 1 2 2 2 2 0 2 1 2 1\n",
      " 0 1 0 0 2 1 1 1 1 0 2 2 2 0 1 0 0 2 2 1 1 2 1 0 0 1 1 1 0 2 0 1 0 1 0 2 2\n",
      " 2 0 1 0 0 1 0 2 2 2 1 0 0 2 0 1 1 2 1 1 1 0 0 2 1 0 2 1 0 2 1 0 0 0 0 2 0\n",
      " 1 0 0 2 1 2 2 2 2]\n",
      "[63 17 98 76 42]\n",
      "[0 2 1 2 0 0 2 0 0 1 2 0 0 1 2 2 0 1 0 2 2 2 2 1 1 1 0 1 2 2 2 2 0 2 1 2 1\n",
      " 0 1 0 0 2 1 1 1 1 0 2 2 2 0 1 0 0 2 2 1 1 2 1 0 0 1 1 1 0 2 0 1 0 1 0 2 2\n",
      " 2 0 1 0 0 1 0 2 2 2 1 0 0 2 0 1 1 2 1 1 1 0 0 2 1 0 2 1 0 2 1 0 0 0 0 2 0\n",
      " 1 0 0 2 1 2 2 2 2]\n",
      "[87 55 58  1 66]\n",
      "[0 2 1 2 0 0 2 0 0 1 2 0 0 1 2 2 0 1 0 2 2 2 2 1 1 1 0 1 2 2 2 2 0 2 1 2 1\n",
      " 0 1 0 0 2 1 1 1 1 0 2 2 2 0 1 0 0 2 2 1 1 2 1 0 0 1 1 1 0 2 0 1 0 1 0 2 2\n",
      " 2 0 1 0 0 1 0 2 2 2 1 0 0 2 0 1 1 2 1 1 1 0 0 2 1 0 2 1 0 2 1 0 0 0 0 2 0\n",
      " 1 0 0 2 1 2 2 2 2]\n",
      "[95 65 32 60 99]\n",
      "[0 2 1 2 0 0 2 0 0 1 2 0 0 1 2 2 0 1 0 2 2 2 2 1 1 1 0 1 2 2 2 2 0 2 1 2 1\n",
      " 0 1 0 0 2 1 1 1 1 0 2 2 2 0 1 0 0 2 2 1 1 2 1 0 0 1 1 1 0 2 0 1 0 1 0 2 2\n",
      " 2 0 1 0 0 1 0 2 2 2 1 0 0 2 0 1 1 2 1 1 1 0 0 2 1 0 2 1 0 2 1 0 0 0 0 2 0\n",
      " 1 0 0 2 1 2 2 2 2]\n",
      "[ 58  55 119  97  91]\n",
      "[0 2 1 2 0 0 2 0 0 1 2 0 0 1 2 2 0 1 0 2 2 2 2 1 1 1 0 1 2 2 2 2 0 2 1 2 1\n",
      " 0 1 0 0 2 1 1 1 1 0 2 2 2 0 1 0 0 2 2 1 1 2 1 0 0 1 1 1 0 2 0 1 0 1 0 2 2\n",
      " 2 0 1 0 0 1 0 2 2 2 1 0 0 2 0 1 1 2 1 1 1 0 0 2 1 0 2 1 0 2 1 0 0 0 0 2 0\n",
      " 1 0 0 2 1 2 2 2 2]\n",
      "[24 98 76 17 79]\n",
      "[0 2 1 2 0 0 2 0 0 1 2 0 0 1 2 2 0 1 0 2 2 2 2 1 1 1 0 1 2 2 2 2 0 2 1 2 1\n",
      " 0 1 0 0 2 1 1 1 1 0 2 2 2 0 1 0 0 2 2 1 1 2 1 0 0 1 1 1 0 2 0 1 0 1 0 2 2\n",
      " 2 0 1 0 0 1 0 2 2 2 1 0 0 2 0 1 1 2 1 1 1 0 0 2 1 0 2 1 0 2 1 0 0 0 0 2 0\n",
      " 1 0 0 2 1 2 2 2 2]\n",
      "[60 65 75 32 46]\n",
      "[0 2 1 2 0 0 2 0 0 1 2 0 0 1 2 2 0 1 0 2 2 2 2 1 1 1 0 1 2 2 2 2 0 2 1 2 1\n",
      " 0 1 0 0 2 1 1 1 1 0 2 2 2 0 1 0 0 2 2 1 1 2 1 0 0 1 1 1 0 2 0 1 0 1 0 2 2\n",
      " 2 0 1 0 0 1 0 2 2 2 1 0 0 2 0 1 1 2 1 1 1 0 0 2 1 0 2 1 0 2 1 0 0 0 0 2 0\n",
      " 1 0 0 2 1 2 2 2 2]\n",
      "[92 36 31 94 56]\n",
      "[0 2 1 2 0 0 2 0 0 1 2 0 0 1 2 2 0 1 0 2 2 2 2 1 1 1 0 1 2 2 2 2 0 2 1 2 1\n",
      " 0 1 0 0 2 1 1 1 1 0 2 2 2 0 1 0 0 2 2 1 1 2 1 0 0 1 1 1 0 2 0 1 0 1 0 2 2\n",
      " 2 0 1 0 0 1 0 2 2 2 1 0 0 2 0 1 1 2 1 1 1 0 0 2 1 0 2 1 0 2 1 0 0 0 0 2 0\n",
      " 1 0 0 2 1 2 2 2 2]\n",
      "[59 57 25 44 70]\n",
      "[0 2 1 2 0 0 2 0 0 1 2 0 0 1 2 2 0 1 0 2 2 2 2 1 1 1 0 1 2 2 2 2 0 2 1 2 1\n",
      " 0 1 0 0 2 1 1 1 1 0 2 2 2 0 1 0 0 2 2 1 1 2 1 0 0 1 1 1 0 2 0 1 0 1 0 2 2\n",
      " 2 0 1 0 0 1 0 2 2 2 1 0 0 2 0 1 1 2 1 1 1 0 0 2 1 0 2 1 0 2 1 0 0 0 0 2 0\n",
      " 1 0 0 2 1 2 2 2 2]\n",
      "[  8 110 105 106  40]\n",
      "[0 2 1 2 0 0 2 0 0 1 2 0 0 1 2 2 0 1 0 2 2 2 2 1 1 1 0 1 2 2 2 2 0 2 1 2 1\n",
      " 0 1 0 0 2 1 1 1 1 0 2 2 2 0 1 0 0 2 2 1 1 2 1 0 0 1 1 1 0 2 0 1 0 1 0 2 2\n",
      " 2 0 1 0 0 1 0 2 2 2 1 0 0 2 0 1 1 2 1 1 1 0 0 2 1 0 2 1 0 2 1 0 0 0 0 2 0\n",
      " 1 0 0 2 1 2 2 2 2]\n",
      "[ 52  53 105  37 106]\n",
      "[0 2 1 2 0 0 2 0 0 1 2 0 0 1 2 2 0 1 0 2 2 2 2 1 1 1 0 1 2 2 2 2 0 2 1 2 1\n",
      " 0 1 0 0 2 1 1 1 1 0 2 2 2 0 1 0 0 2 2 1 1 2 1 0 0 1 1 1 0 2 0 1 0 1 0 2 2\n",
      " 2 0 1 0 0 1 0 2 2 2 1 0 0 2 0 1 1 2 1 1 1 0 0 2 1 0 2 1 0 2 1 0 0 0 0 2 0\n",
      " 1 0 0 2 1 2 2 2 2]\n",
      "[ 97  91 119  58  55]\n",
      "[0 2 1 2 0 0 2 0 0 1 2 0 0 1 2 2 0 1 0 2 2 2 2 1 1 1 0 1 2 2 2 2 0 2 1 2 1\n",
      " 0 1 0 0 2 1 1 1 1 0 2 2 2 0 1 0 0 2 2 1 1 2 1 0 0 1 1 1 0 2 0 1 0 1 0 2 2\n",
      " 2 0 1 0 0 1 0 2 2 2 1 0 0 2 0 1 1 2 1 1 1 0 0 2 1 0 2 1 0 2 1 0 0 0 0 2 0\n",
      " 1 0 0 2 1 2 2 2 2]\n",
      "[29 93 47 19 36]\n",
      "[0 2 1 2 0 0 2 0 0 1 2 0 0 1 2 2 0 1 0 2 2 2 2 1 1 1 0 1 2 2 2 2 0 2 1 2 1\n",
      " 0 1 0 0 2 1 1 1 1 0 2 2 2 0 1 0 0 2 2 1 1 2 1 0 0 1 1 1 0 2 0 1 0 1 0 2 2\n",
      " 2 0 1 0 0 1 0 2 2 2 1 0 0 2 0 1 1 2 1 1 1 0 0 2 1 0 2 1 0 2 1 0 0 0 0 2 0\n",
      " 1 0 0 2 1 2 2 2 2]\n",
      "[109  30  10 114  72]\n",
      "[0 2 1 2 0 0 2 0 0 1 2 0 0 1 2 2 0 1 0 2 2 2 2 1 1 1 0 1 2 2 2 2 0 2 1 2 1\n",
      " 0 1 0 0 2 1 1 1 1 0 2 2 2 0 1 0 0 2 2 1 1 2 1 0 0 1 1 1 0 2 0 1 0 1 0 2 2\n",
      " 2 0 1 0 0 1 0 2 2 2 1 0 0 2 0 1 1 2 1 1 1 0 0 2 1 0 2 1 0 2 1 0 0 0 0 2 0\n",
      " 1 0 0 2 1 2 2 2 2]\n",
      "[84 24 23 76 15]\n",
      "Predictions: [0, 1, 1, 0, 0, 1, 2, 1, 1, 2, 2, 1, 1, 1, 2, 0, 1, 2, 0, 2, 1, 0, 1, 1, 0, 0, 2, 2, 2, 1]\n",
      "Target: [0 1 1 0 0 1 2 1 1 2 2 1 1 1 2 0 1 2 0 2 1 0 1 1 0 0 2 2 2 1]\n"
     ]
    }
   ],
   "source": [
    "def my_knn(X_test, X_train, y_train, k):    \n",
    "    all_predictions = []\n",
    "    # Your code here:\n",
    "    # define a for-loop to loop through all the test data points \n",
    "    # to get the predictions for each one of them individually \n",
    "    for datapoint in X_test:\n",
    "        dist = my_distance_metric(X_train, datapoint)\n",
    "        target_list = my_target_list(dist, y_train, k)\n",
    "        prediction = my_predict(target_list)\n",
    "        all_predictions.append(prediction)\n",
    "    return all_predictions\n",
    "\n",
    "print(\"Predictions:\" , my_knn(X_test, X_train, y_train, 5))\n",
    "print(\"Target:\", y_test)\n",
    "\n"
   ]
  },
  {
   "cell_type": "markdown",
   "metadata": {},
   "source": [
    "**Task:** Use the knn-function\n",
    "to predict X_test and calculate the accuracy. "
   ]
  },
  {
   "cell_type": "code",
   "execution_count": 80,
   "metadata": {},
   "outputs": [
    {
     "name": "stdout",
     "output_type": "stream",
     "text": [
      "[0 2 1 2 0 0 2 0 0 1 2 0 0 1 2 2 0 1 0 2 2 2 2 1 1 1 0 1 2 2 2 2 0 2 1 2 1\n",
      " 0 1 0 0 2 1 1 1 1 0 2 2 2 0 1 0 0 2 2 1 1 2 1 0 0 1 1 1 0 2 0 1 0 1 0 2 2\n",
      " 2 0 1 0 0 1 0 2 2 2 1 0 0 2 0 1 1 2 1 1 1 0 0 2 1 0 2 1 0 2 1 0 0 0 0 2 0\n",
      " 1 0 0 2 1 2 2 2 2]\n",
      "[12 71 67 77 46]\n",
      "[0 2 1 2 0 0 2 0 0 1 2 0 0 1 2 2 0 1 0 2 2 2 2 1 1 1 0 1 2 2 2 2 0 2 1 2 1\n",
      " 0 1 0 0 2 1 1 1 1 0 2 2 2 0 1 0 0 2 2 1 1 2 1 0 0 1 1 1 0 2 0 1 0 1 0 2 2\n",
      " 2 0 1 0 0 1 0 2 2 2 1 0 0 2 0 1 1 2 1 1 1 0 0 2 1 0 2 1 0 2 1 0 0 0 0 2 0\n",
      " 1 0 0 2 1 2 2 2 2]\n",
      "[76 23 84 17 98]\n",
      "[0 2 1 2 0 0 2 0 0 1 2 0 0 1 2 2 0 1 0 2 2 2 2 1 1 1 0 1 2 2 2 2 0 2 1 2 1\n",
      " 0 1 0 0 2 1 1 1 1 0 2 2 2 0 1 0 0 2 2 1 1 2 1 0 0 1 1 1 0 2 0 1 0 1 0 2 2\n",
      " 2 0 1 0 0 1 0 2 2 2 1 0 0 2 0 1 1 2 1 1 1 0 0 2 1 0 2 1 0 2 1 0 0 0 0 2 0\n",
      " 1 0 0 2 1 2 2 2 2]\n",
      "[ 38  13  44  62 104]\n",
      "[0 2 1 2 0 0 2 0 0 1 2 0 0 1 2 2 0 1 0 2 2 2 2 1 1 1 0 1 2 2 2 2 0 2 1 2 1\n",
      " 0 1 0 0 2 1 1 1 1 0 2 2 2 0 1 0 0 2 2 1 1 2 1 0 0 1 1 1 0 2 0 1 0 1 0 2 2\n",
      " 2 0 1 0 0 1 0 2 2 2 1 0 0 2 0 1 1 2 1 1 1 0 0 2 1 0 2 1 0 2 1 0 0 0 0 2 0\n",
      " 1 0 0 2 1 2 2 2 2]\n",
      "[95 99 32 65 69]\n",
      "[0 2 1 2 0 0 2 0 0 1 2 0 0 1 2 2 0 1 0 2 2 2 2 1 1 1 0 1 2 2 2 2 0 2 1 2 1\n",
      " 0 1 0 0 2 1 1 1 1 0 2 2 2 0 1 0 0 2 2 1 1 2 1 0 0 1 1 1 0 2 0 1 0 1 0 2 2\n",
      " 2 0 1 0 0 1 0 2 2 2 1 0 0 2 0 1 1 2 1 1 1 0 0 2 1 0 2 1 0 2 1 0 0 0 0 2 0\n",
      " 1 0 0 2 1 2 2 2 2]\n",
      "[ 4 26 96 18 80]\n",
      "[0 2 1 2 0 0 2 0 0 1 2 0 0 1 2 2 0 1 0 2 2 2 2 1 1 1 0 1 2 2 2 2 0 2 1 2 1\n",
      " 0 1 0 0 2 1 1 1 1 0 2 2 2 0 1 0 0 2 2 1 1 2 1 0 0 1 1 1 0 2 0 1 0 1 0 2 2\n",
      " 2 0 1 0 0 1 0 2 2 2 1 0 0 2 0 1 1 2 1 1 1 0 0 2 1 0 2 1 0 2 1 0 0 0 0 2 0\n",
      " 1 0 0 2 1 2 2 2 2]\n",
      "[79 27 98 62 24]\n",
      "[0 2 1 2 0 0 2 0 0 1 2 0 0 1 2 2 0 1 0 2 2 2 2 1 1 1 0 1 2 2 2 2 0 2 1 2 1\n",
      " 0 1 0 0 2 1 1 1 1 0 2 2 2 0 1 0 0 2 2 1 1 2 1 0 0 1 1 1 0 2 0 1 0 1 0 2 2\n",
      " 2 0 1 0 0 1 0 2 2 2 1 0 0 2 0 1 1 2 1 1 1 0 0 2 1 0 2 1 0 2 1 0 0 0 0 2 0\n",
      " 1 0 0 2 1 2 2 2 2]\n",
      "[22 81 35 87 66]\n",
      "[0 2 1 2 0 0 2 0 0 1 2 0 0 1 2 2 0 1 0 2 2 2 2 1 1 1 0 1 2 2 2 2 0 2 1 2 1\n",
      " 0 1 0 0 2 1 1 1 1 0 2 2 2 0 1 0 0 2 2 1 1 2 1 0 0 1 1 1 0 2 0 1 0 1 0 2 2\n",
      " 2 0 1 0 0 1 0 2 2 2 1 0 0 2 0 1 1 2 1 1 1 0 0 2 1 0 2 1 0 2 1 0 0 0 0 2 0\n",
      " 1 0 0 2 1 2 2 2 2]\n",
      "[ 57  59  25 104  44]\n",
      "[0 2 1 2 0 0 2 0 0 1 2 0 0 1 2 2 0 1 0 2 2 2 2 1 1 1 0 1 2 2 2 2 0 2 1 2 1\n",
      " 0 1 0 0 2 1 1 1 1 0 2 2 2 0 1 0 0 2 2 1 1 2 1 0 0 1 1 1 0 2 0 1 0 1 0 2 2\n",
      " 2 0 1 0 0 1 0 2 2 2 1 0 0 2 0 1 1 2 1 1 1 0 0 2 1 0 2 1 0 2 1 0 0 0 0 2 0\n",
      " 1 0 0 2 1 2 2 2 2]\n",
      "[104  44  38  62  27]\n",
      "[0 2 1 2 0 0 2 0 0 1 2 0 0 1 2 2 0 1 0 2 2 2 2 1 1 1 0 1 2 2 2 2 0 2 1 2 1\n",
      " 0 1 0 0 2 1 1 1 1 0 2 2 2 0 1 0 0 2 2 1 1 2 1 0 0 1 1 1 0 2 0 1 0 1 0 2 2\n",
      " 2 0 1 0 0 1 0 2 2 2 1 0 0 2 0 1 1 2 1 1 1 0 0 2 1 0 2 1 0 2 1 0 0 0 0 2 0\n",
      " 1 0 0 2 1 2 2 2 2]\n",
      "[ 64   3  49 116  51]\n",
      "[0 2 1 2 0 0 2 0 0 1 2 0 0 1 2 2 0 1 0 2 2 2 2 1 1 1 0 1 2 2 2 2 0 2 1 2 1\n",
      " 0 1 0 0 2 1 1 1 1 0 2 2 2 0 1 0 0 2 2 1 1 2 1 0 0 1 1 1 0 2 0 1 0 1 0 2 2\n",
      " 2 0 1 0 0 1 0 2 2 2 1 0 0 2 0 1 1 2 1 1 1 0 0 2 1 0 2 1 0 2 1 0 0 0 0 2 0\n",
      " 1 0 0 2 1 2 2 2 2]\n",
      "[118  43  21  64 100]\n",
      "[0 2 1 2 0 0 2 0 0 1 2 0 0 1 2 2 0 1 0 2 2 2 2 1 1 1 0 1 2 2 2 2 0 2 1 2 1\n",
      " 0 1 0 0 2 1 1 1 1 0 2 2 2 0 1 0 0 2 2 1 1 2 1 0 0 1 1 1 0 2 0 1 0 1 0 2 2\n",
      " 2 0 1 0 0 1 0 2 2 2 1 0 0 2 0 1 1 2 1 1 1 0 0 2 1 0 2 1 0 2 1 0 0 0 0 2 0\n",
      " 1 0 0 2 1 2 2 2 2]\n",
      "[84 23 76 24 17]\n",
      "[0 2 1 2 0 0 2 0 0 1 2 0 0 1 2 2 0 1 0 2 2 2 2 1 1 1 0 1 2 2 2 2 0 2 1 2 1\n",
      " 0 1 0 0 2 1 1 1 1 0 2 2 2 0 1 0 0 2 2 1 1 2 1 0 0 1 1 1 0 2 0 1 0 1 0 2 2\n",
      " 2 0 1 0 0 1 0 2 2 2 1 0 0 2 0 1 1 2 1 1 1 0 0 2 1 0 2 1 0 2 1 0 0 0 0 2 0\n",
      " 1 0 0 2 1 2 2 2 2]\n",
      "[23 84 15  9 14]\n",
      "[0 2 1 2 0 0 2 0 0 1 2 0 0 1 2 2 0 1 0 2 2 2 2 1 1 1 0 1 2 2 2 2 0 2 1 2 1\n",
      " 0 1 0 0 2 1 1 1 1 0 2 2 2 0 1 0 0 2 2 1 1 2 1 0 0 1 1 1 0 2 0 1 0 1 0 2 2\n",
      " 2 0 1 0 0 1 0 2 2 2 1 0 0 2 0 1 1 2 1 1 1 0 0 2 1 0 2 1 0 2 1 0 0 0 0 2 0\n",
      " 1 0 0 2 1 2 2 2 2]\n",
      "[ 27  62  79  38 104]\n",
      "[0 2 1 2 0 0 2 0 0 1 2 0 0 1 2 2 0 1 0 2 2 2 2 1 1 1 0 1 2 2 2 2 0 2 1 2 1\n",
      " 0 1 0 0 2 1 1 1 1 0 2 2 2 0 1 0 0 2 2 1 1 2 1 0 0 1 1 1 0 2 0 1 0 1 0 2 2\n",
      " 2 0 1 0 0 1 0 2 2 2 1 0 0 2 0 1 1 2 1 1 1 0 0 2 1 0 2 1 0 2 1 0 0 0 0 2 0\n",
      " 1 0 0 2 1 2 2 2 2]\n",
      "[47 58 55 31 36]\n",
      "[0 2 1 2 0 0 2 0 0 1 2 0 0 1 2 2 0 1 0 2 2 2 2 1 1 1 0 1 2 2 2 2 0 2 1 2 1\n",
      " 0 1 0 0 2 1 1 1 1 0 2 2 2 0 1 0 0 2 2 1 1 2 1 0 0 1 1 1 0 2 0 1 0 1 0 2 2\n",
      " 2 0 1 0 0 1 0 2 2 2 1 0 0 2 0 1 1 2 1 1 1 0 0 2 1 0 2 1 0 2 1 0 0 0 0 2 0\n",
      " 1 0 0 2 1 2 2 2 2]\n",
      "[99 69 95  7 32]\n",
      "[0 2 1 2 0 0 2 0 0 1 2 0 0 1 2 2 0 1 0 2 2 2 2 1 1 1 0 1 2 2 2 2 0 2 1 2 1\n",
      " 0 1 0 0 2 1 1 1 1 0 2 2 2 0 1 0 0 2 2 1 1 2 1 0 0 1 1 1 0 2 0 1 0 1 0 2 2\n",
      " 2 0 1 0 0 1 0 2 2 2 1 0 0 2 0 1 1 2 1 1 1 0 0 2 1 0 2 1 0 2 1 0 0 0 0 2 0\n",
      " 1 0 0 2 1 2 2 2 2]\n",
      "[63 17 98 76 42]\n",
      "[0 2 1 2 0 0 2 0 0 1 2 0 0 1 2 2 0 1 0 2 2 2 2 1 1 1 0 1 2 2 2 2 0 2 1 2 1\n",
      " 0 1 0 0 2 1 1 1 1 0 2 2 2 0 1 0 0 2 2 1 1 2 1 0 0 1 1 1 0 2 0 1 0 1 0 2 2\n",
      " 2 0 1 0 0 1 0 2 2 2 1 0 0 2 0 1 1 2 1 1 1 0 0 2 1 0 2 1 0 2 1 0 0 0 0 2 0\n",
      " 1 0 0 2 1 2 2 2 2]\n",
      "[87 55 58  1 66]\n",
      "[0 2 1 2 0 0 2 0 0 1 2 0 0 1 2 2 0 1 0 2 2 2 2 1 1 1 0 1 2 2 2 2 0 2 1 2 1\n",
      " 0 1 0 0 2 1 1 1 1 0 2 2 2 0 1 0 0 2 2 1 1 2 1 0 0 1 1 1 0 2 0 1 0 1 0 2 2\n",
      " 2 0 1 0 0 1 0 2 2 2 1 0 0 2 0 1 1 2 1 1 1 0 0 2 1 0 2 1 0 2 1 0 0 0 0 2 0\n",
      " 1 0 0 2 1 2 2 2 2]\n",
      "[95 65 32 60 99]\n",
      "[0 2 1 2 0 0 2 0 0 1 2 0 0 1 2 2 0 1 0 2 2 2 2 1 1 1 0 1 2 2 2 2 0 2 1 2 1\n",
      " 0 1 0 0 2 1 1 1 1 0 2 2 2 0 1 0 0 2 2 1 1 2 1 0 0 1 1 1 0 2 0 1 0 1 0 2 2\n",
      " 2 0 1 0 0 1 0 2 2 2 1 0 0 2 0 1 1 2 1 1 1 0 0 2 1 0 2 1 0 2 1 0 0 0 0 2 0\n",
      " 1 0 0 2 1 2 2 2 2]\n",
      "[ 58  55 119  97  91]\n",
      "[0 2 1 2 0 0 2 0 0 1 2 0 0 1 2 2 0 1 0 2 2 2 2 1 1 1 0 1 2 2 2 2 0 2 1 2 1\n",
      " 0 1 0 0 2 1 1 1 1 0 2 2 2 0 1 0 0 2 2 1 1 2 1 0 0 1 1 1 0 2 0 1 0 1 0 2 2\n",
      " 2 0 1 0 0 1 0 2 2 2 1 0 0 2 0 1 1 2 1 1 1 0 0 2 1 0 2 1 0 2 1 0 0 0 0 2 0\n",
      " 1 0 0 2 1 2 2 2 2]\n",
      "[24 98 76 17 79]\n",
      "[0 2 1 2 0 0 2 0 0 1 2 0 0 1 2 2 0 1 0 2 2 2 2 1 1 1 0 1 2 2 2 2 0 2 1 2 1\n",
      " 0 1 0 0 2 1 1 1 1 0 2 2 2 0 1 0 0 2 2 1 1 2 1 0 0 1 1 1 0 2 0 1 0 1 0 2 2\n",
      " 2 0 1 0 0 1 0 2 2 2 1 0 0 2 0 1 1 2 1 1 1 0 0 2 1 0 2 1 0 2 1 0 0 0 0 2 0\n",
      " 1 0 0 2 1 2 2 2 2]\n",
      "[60 65 75 32 46]\n",
      "[0 2 1 2 0 0 2 0 0 1 2 0 0 1 2 2 0 1 0 2 2 2 2 1 1 1 0 1 2 2 2 2 0 2 1 2 1\n",
      " 0 1 0 0 2 1 1 1 1 0 2 2 2 0 1 0 0 2 2 1 1 2 1 0 0 1 1 1 0 2 0 1 0 1 0 2 2\n",
      " 2 0 1 0 0 1 0 2 2 2 1 0 0 2 0 1 1 2 1 1 1 0 0 2 1 0 2 1 0 2 1 0 0 0 0 2 0\n",
      " 1 0 0 2 1 2 2 2 2]\n",
      "[92 36 31 94 56]\n",
      "[0 2 1 2 0 0 2 0 0 1 2 0 0 1 2 2 0 1 0 2 2 2 2 1 1 1 0 1 2 2 2 2 0 2 1 2 1\n",
      " 0 1 0 0 2 1 1 1 1 0 2 2 2 0 1 0 0 2 2 1 1 2 1 0 0 1 1 1 0 2 0 1 0 1 0 2 2\n",
      " 2 0 1 0 0 1 0 2 2 2 1 0 0 2 0 1 1 2 1 1 1 0 0 2 1 0 2 1 0 2 1 0 0 0 0 2 0\n",
      " 1 0 0 2 1 2 2 2 2]\n",
      "[59 57 25 44 70]\n",
      "[0 2 1 2 0 0 2 0 0 1 2 0 0 1 2 2 0 1 0 2 2 2 2 1 1 1 0 1 2 2 2 2 0 2 1 2 1\n",
      " 0 1 0 0 2 1 1 1 1 0 2 2 2 0 1 0 0 2 2 1 1 2 1 0 0 1 1 1 0 2 0 1 0 1 0 2 2\n",
      " 2 0 1 0 0 1 0 2 2 2 1 0 0 2 0 1 1 2 1 1 1 0 0 2 1 0 2 1 0 2 1 0 0 0 0 2 0\n",
      " 1 0 0 2 1 2 2 2 2]\n",
      "[  8 110 105 106  40]\n",
      "[0 2 1 2 0 0 2 0 0 1 2 0 0 1 2 2 0 1 0 2 2 2 2 1 1 1 0 1 2 2 2 2 0 2 1 2 1\n",
      " 0 1 0 0 2 1 1 1 1 0 2 2 2 0 1 0 0 2 2 1 1 2 1 0 0 1 1 1 0 2 0 1 0 1 0 2 2\n",
      " 2 0 1 0 0 1 0 2 2 2 1 0 0 2 0 1 1 2 1 1 1 0 0 2 1 0 2 1 0 2 1 0 0 0 0 2 0\n",
      " 1 0 0 2 1 2 2 2 2]\n",
      "[ 52  53 105  37 106]\n",
      "[0 2 1 2 0 0 2 0 0 1 2 0 0 1 2 2 0 1 0 2 2 2 2 1 1 1 0 1 2 2 2 2 0 2 1 2 1\n",
      " 0 1 0 0 2 1 1 1 1 0 2 2 2 0 1 0 0 2 2 1 1 2 1 0 0 1 1 1 0 2 0 1 0 1 0 2 2\n",
      " 2 0 1 0 0 1 0 2 2 2 1 0 0 2 0 1 1 2 1 1 1 0 0 2 1 0 2 1 0 2 1 0 0 0 0 2 0\n",
      " 1 0 0 2 1 2 2 2 2]\n",
      "[ 97  91 119  58  55]\n",
      "[0 2 1 2 0 0 2 0 0 1 2 0 0 1 2 2 0 1 0 2 2 2 2 1 1 1 0 1 2 2 2 2 0 2 1 2 1\n",
      " 0 1 0 0 2 1 1 1 1 0 2 2 2 0 1 0 0 2 2 1 1 2 1 0 0 1 1 1 0 2 0 1 0 1 0 2 2\n",
      " 2 0 1 0 0 1 0 2 2 2 1 0 0 2 0 1 1 2 1 1 1 0 0 2 1 0 2 1 0 2 1 0 0 0 0 2 0\n",
      " 1 0 0 2 1 2 2 2 2]\n",
      "[29 93 47 19 36]\n",
      "[0 2 1 2 0 0 2 0 0 1 2 0 0 1 2 2 0 1 0 2 2 2 2 1 1 1 0 1 2 2 2 2 0 2 1 2 1\n",
      " 0 1 0 0 2 1 1 1 1 0 2 2 2 0 1 0 0 2 2 1 1 2 1 0 0 1 1 1 0 2 0 1 0 1 0 2 2\n",
      " 2 0 1 0 0 1 0 2 2 2 1 0 0 2 0 1 1 2 1 1 1 0 0 2 1 0 2 1 0 2 1 0 0 0 0 2 0\n",
      " 1 0 0 2 1 2 2 2 2]\n",
      "[109  30  10 114  72]\n",
      "[0 2 1 2 0 0 2 0 0 1 2 0 0 1 2 2 0 1 0 2 2 2 2 1 1 1 0 1 2 2 2 2 0 2 1 2 1\n",
      " 0 1 0 0 2 1 1 1 1 0 2 2 2 0 1 0 0 2 2 1 1 2 1 0 0 1 1 1 0 2 0 1 0 1 0 2 2\n",
      " 2 0 1 0 0 1 0 2 2 2 1 0 0 2 0 1 1 2 1 1 1 0 0 2 1 0 2 1 0 2 1 0 0 0 0 2 0\n",
      " 1 0 0 2 1 2 2 2 2]\n",
      "[84 24 23 76 15]\n",
      "Predictions:  [0, 1, 1, 0, 0, 1, 2, 1, 1, 2, 2, 1, 1, 1, 2, 0, 1, 2, 0, 2, 1, 0, 1, 1, 0, 0, 2, 2, 2, 1]\n",
      "Accuracy of my_knn:  1.0\n"
     ]
    }
   ],
   "source": [
    "# Your code here:\n",
    "my_knn_pred = my_knn(X_test, X_train, y_train, 5)\n",
    "print(\"Predictions: \", my_knn_pred)\n",
    "accuracy_my_knn = accuracy_score(y_test, my_knn_pred)\n",
    "print(\"Accuracy of my_knn: \", accuracy_my_knn)\n"
   ]
  },
  {
   "cell_type": "markdown",
   "metadata": {},
   "source": [
    "**Task:** Use the built-in knn classifier from `scikit-learn`"
   ]
  },
  {
   "cell_type": "code",
   "execution_count": 90,
   "metadata": {},
   "outputs": [
    {
     "name": "stdout",
     "output_type": "stream",
     "text": [
      "1.0\n"
     ]
    }
   ],
   "source": [
    "# Your code here:\n",
    "from sklearn.neighbors import KNeighborsClassifier\n",
    "k_nn_builtin = KNeighborsClassifier(n_neighbors = 5)\n",
    "k_nn_builtin.fit(X_train, y_train)\n",
    "print(k_nn_builtin.score(X_test, y_test))\n"
   ]
  },
  {
   "cell_type": "markdown",
   "metadata": {},
   "source": [
    "**Question:** How does your knn classifier perform in in comparison to the built-in function? \n",
    "\n",
    "Answer: Both our knn classifier and built-in classifier perform with 1.0 accuracy. Once we increased the value of k, the accuracy decreased as the model underfits the data.\n",
    "\n"
   ]
  },
  {
   "cell_type": "markdown",
   "metadata": {},
   "source": [
    "## 2. Unsupervised Learning "
   ]
  },
  {
   "cell_type": "markdown",
   "metadata": {},
   "source": [
    "Until now we always worked with features and targets (labels) of the given dataset. In unsupervised learning, we do not have any labels for the data. For classification task, here, we will rely on some clustering algorithms. \n",
    "\n",
    "In this section, we will see the K-means and Gausssian Mixture Model (GMM) clustering methods. These agorithms require us to 'guess' how many clusters (classes) we have. "
   ]
  },
  {
   "cell_type": "markdown",
   "metadata": {},
   "source": [
    "### 2.1. K-means \n",
    "\n",
    "This is the simplest clustering algorithm. We initialize the algorithm with 'k' clusters according to which we get 'k' centroids. The algorithm then iteratively assigns every datapoint to its nearest cluster. The 'means' in its name refers to averaging of the data, i.e., finding the centroid."
   ]
  },
  {
   "cell_type": "markdown",
   "metadata": {},
   "source": [
    "**Task:** Perform unsupervised classification using `sklearn's` `KMeans`. To check your results, print out the output lables and compare with the target values. \n",
    "\n",
    "Note: For this task we ignore the several optional parameters. Providing only the `n_clusters` argument will suffice for this task. "
   ]
  },
  {
   "cell_type": "markdown",
   "metadata": {},
   "source": [
    "**Question:** Before you begin the task, think about which dataset should you work with here? \n",
    "\n",
    "Hint: Unsupervised learning = NO labels available\n",
    "\n",
    "Answer: We should work with all dataset which is features_PCA, since we don't know any labels and there is indeed no need to split the data as before we did."
   ]
  },
  {
   "cell_type": "code",
   "execution_count": 93,
   "metadata": {},
   "outputs": [],
   "source": [
    "# Your code here:\n",
    "from sklearn.cluster import KMeans\n",
    "k_means_builtin = KMeans(n_clusters = 3)\n",
    "k_means_builtin.fit(features_PCA)\n",
    "labels_kmeans = k_means_builtin.labels_\n"
   ]
  },
  {
   "cell_type": "markdown",
   "metadata": {},
   "source": [
    "**Question:** Is it informative to compare the labels and the targets? Explain.\n",
    "\n",
    "Answer: No since in unsupervised learning, these labels are only for indicative of the different clusters and they are not related to the targets.\n",
    "\n"
   ]
  },
  {
   "cell_type": "markdown",
   "metadata": {},
   "source": [
    "### 2.2 Visualization of labels\n",
    "\n",
    "I hope by now it is clear to you why calculating accuracy as done previously does not make sense in this case. Hence, we perform a simple visualization to assess the performance. "
   ]
  },
  {
   "cell_type": "markdown",
   "metadata": {},
   "source": [
    "**Task:** Plot the results of the kmeans function as a scatter plot (similar to PCA). "
   ]
  },
  {
   "cell_type": "code",
   "execution_count": 102,
   "metadata": {},
   "outputs": [
    {
     "name": "stdout",
     "output_type": "stream",
     "text": [
      "150\n",
      "150\n",
      "[[ 1.10178118  0.86297242]\n",
      " [ 0.73133743  0.59461473]\n",
      " [ 1.24097932  0.61629765]\n",
      " [ 0.74652974  0.77301931]\n",
      " [ 0.87540719  0.50906396]\n",
      " [ 0.73768265  0.39657156]\n",
      " [ 0.87427365  0.25079339]\n",
      " [ 1.25650912 -0.07725602]\n",
      " [ 1.35840512  0.33131168]\n",
      " [ 0.42913912  0.84558224]\n",
      " [ 1.04872805  0.5220518 ]\n",
      " [ 1.84456887  0.87042131]\n",
      " [ 2.20526679  0.56201048]\n",
      " [ 1.44015066 -0.04698759]\n",
      " [ 1.86781222  0.29504482]\n",
      " [ 2.75187334  0.8004092 ]\n",
      " [ 2.30243944  0.42006558]\n",
      " [ 2.00668647 -0.71143865]\n",
      " [ 2.25977735  1.92101038]\n",
      " [ 1.36417549  0.69275645]\n",
      " [ 1.60267867 -0.42170045]\n",
      " [ 1.8839007   0.41924965]\n",
      " [ 1.59007732  0.67624481]\n",
      " [ 1.47143146  0.25562182]\n",
      " [ 2.42632899  2.55666125]\n",
      " [ 3.31069558  0.01778095]\n",
      " [ 2.0377163   0.91046741]\n",
      " [ 2.89765149  0.41364106]\n",
      " [ 1.7007339   1.01392187]\n",
      " [ 1.95432671  1.0077776 ]\n",
      " [ 1.02095055  0.06434603]\n",
      " [ 1.78834992 -0.18736121]\n",
      " [ 1.86364755  0.56229073]\n",
      " [ 2.43595373  0.25928443]\n",
      " [ 2.30492772  2.62632347]\n",
      " [ 1.86270322 -0.17854949]\n",
      " [ 2.79877045  0.85680333]\n",
      " [ 1.57625591  1.06858111]\n",
      " [ 1.3462921   0.42243061]\n",
      " [ 1.85204505  0.67612817]\n",
      " [ 2.01481043  0.61388564]\n",
      " [ 1.90178409  0.68957549]\n",
      " [ 2.04055823  0.8675206 ]\n",
      " [ 1.9981471   1.04916875]\n",
      " [ 1.87050329  0.38696608]\n",
      " [ 1.5211705   0.26906914]\n",
      " [ 1.37278779  1.01125442]]\n"
     ]
    },
    {
     "data": {
      "text/plain": [
       "<matplotlib.legend.Legend at 0x7f9b370de7f0>"
      ]
     },
     "execution_count": 102,
     "metadata": {},
     "output_type": "execute_result"
    },
    {
     "data": {
      "image/png": "[encoded data removed]",
      "text/plain": [
       "<Figure size 432x288 with 1 Axes>"
      ]
     },
     "metadata": {
      "needs_background": "light"
     },
     "output_type": "display_data"
    }
   ],
   "source": [
    "# Your code here:\n",
    "features1 = features_PCA[:, 0]\n",
    "features2 = features_PCA[:, 1]\n",
    "print(len(labels_kmeans))\n",
    "print(len(features_PCA))\n",
    "print(features_PCA[labels_kmeans == 0])\n",
    "\n",
    "types = ('cluster 1', 'cluster 2', 'cluster 3')\n",
    "colors = ('red', 'green', 'blue')\n",
    "#data = [[features_PCA[:, feature] for feature in [0,1]] for target in range(3)]\n",
    "features_now = [[features_PCA[labels_kmeans == target][:, feature] for feature in [0,1]] for target in range(3)]\n",
    "    \n",
    "\n",
    "for item, color, group in zip(features_now, colors, types):\n",
    "    plt.scatter(item[0], item[1], color=color)\n",
    "    plt.title('Projection')\n",
    "    \n",
    "plt.xlabel('PCA1')\n",
    "plt.ylabel('PCA2')\n",
    "plt.legend(types)\n",
    "\n",
    "\n",
    "# Optional: Plotting the centroids of the clusters\n",
    "# plt.scatter(kmeans.cluster_centers_[:, 0], kmeans.cluster_centers_[:,1], s = 70, c = 'black')\n",
    "\n"
   ]
  },
  {
   "cell_type": "markdown",
   "metadata": {},
   "source": [
    "### 2.3 The Elbow Method\n",
    "\n",
    "In a truly unsupervised learning scenario, how could we make the initial guess for the number of custers? One option is The Elbow Method.\n",
    "\n",
    "The basic idea behind cluster partitioning methods, such as k-means clustering, is to define clusters such that the total intra-cluster variation, or total within-cluster sum of square (wcss), is minimized. In the Elbow Method, we plot the WCSS against a set of values for 'k' and the location of a bend (elbow) in the plot is generally considered as an indicator of the appropriate number of clusters."
   ]
  },
  {
   "cell_type": "code",
   "execution_count": 103,
   "metadata": {},
   "outputs": [
    {
     "data": {
      "image/png": "[encoded data removed]",
      "text/plain": [
       "<Figure size 432x288 with 1 Axes>"
      ]
     },
     "metadata": {
      "needs_background": "light"
     },
     "output_type": "display_data"
    }
   ],
   "source": [
    "#Finding the optimum number of clusters for k-means classification\n",
    "wcss = [] #within cluster sum of squares\n",
    "\n",
    "for i in range(1, 11):\n",
    "    kmeans = KMeans(n_clusters=i, init='k-means++', max_iter=300, n_init=10, random_state=0)\n",
    "    kmeans.fit(features_PCA)\n",
    "    wcss.append(kmeans.inertia_)\n",
    "    \n",
    "#Plotting the results onto a line graph, allowing us to observe 'The elbow'\n",
    "plt.plot(range(1, 11), wcss)\n",
    "plt.title('The elbow method')\n",
    "plt.xlabel('Number of clusters')\n",
    "plt.ylabel('WCSS') \n",
    "plt.show()"
   ]
  },
  {
   "cell_type": "markdown",
   "metadata": {},
   "source": [
    "**Question:** What is the optimum number of clusters according to the Elbow Method? \n",
    "\n",
    "Answer: The optimum number of clusters should be 3 according to location of a bend (elbow)."
   ]
  },
  {
   "cell_type": "markdown",
   "metadata": {},
   "source": [
    "### 2.4 GMM\n",
    "\n",
    "As we saw, Kmeans might not always provide the most optimum output because it deos not have any intrinsic measure of probability or uncertainty of cluster assignments. A major limitation of k-means is that the cluster models must be circular: k-means has no built-in way of accounting for oblong or elliptical clusters.\n",
    "\n",
    "Gaussian mixture models (GMMs) offer an extension to the idea of kmeans and provide a better estimation. They attempt to find a mixture of multi-dimensional Gaussian probability distributions that best model any input dataset. While Kmeans is a method that performs hard labeling, i.e., it simply choses the maximum probability, GMM provide soft labeling by looking at all the probabilities instead of only maximum. "
   ]
  },
  {
   "cell_type": "markdown",
   "metadata": {},
   "source": [
    "**Task:** Try out GMM using `sklearn`'s `GaussianMixture`. Display the probabilities that are assigned to every sample to understand the concept of soft-labeling as explained above. You may also plot the clusters for visualization. \n",
    "\n",
    "Tip: Round the probabilities up to two decimal places before displaying."
   ]
  },
  {
   "cell_type": "code",
   "execution_count": 104,
   "metadata": {},
   "outputs": [
    {
     "name": "stdout",
     "output_type": "stream",
     "text": [
      "[[0.   1.   0.  ]\n",
      " [0.   1.   0.  ]\n",
      " [0.   1.   0.  ]\n",
      " [0.   1.   0.  ]\n",
      " [0.   1.   0.  ]\n",
      " [0.   1.   0.  ]\n",
      " [0.   1.   0.  ]\n",
      " [0.   1.   0.  ]\n",
      " [0.   1.   0.  ]\n",
      " [0.   1.   0.  ]\n",
      " [0.   1.   0.  ]\n",
      " [0.   1.   0.  ]\n",
      " [0.   1.   0.  ]\n",
      " [0.   1.   0.  ]\n",
      " [0.   1.   0.  ]\n",
      " [0.   1.   0.  ]\n",
      " [0.   1.   0.  ]\n",
      " [0.   1.   0.  ]\n",
      " [0.   1.   0.  ]\n",
      " [0.   1.   0.  ]\n",
      " [0.   1.   0.  ]\n",
      " [0.   1.   0.  ]\n",
      " [0.   1.   0.  ]\n",
      " [0.   1.   0.  ]\n",
      " [0.   1.   0.  ]\n",
      " [0.   1.   0.  ]\n",
      " [0.   1.   0.  ]\n",
      " [0.   1.   0.  ]\n",
      " [0.   1.   0.  ]\n",
      " [0.   1.   0.  ]\n",
      " [0.   1.   0.  ]\n",
      " [0.   1.   0.  ]\n",
      " [0.   1.   0.  ]\n",
      " [0.   1.   0.  ]\n",
      " [0.   1.   0.  ]\n",
      " [0.   1.   0.  ]\n",
      " [0.   1.   0.  ]\n",
      " [0.   1.   0.  ]\n",
      " [0.   1.   0.  ]\n",
      " [0.   1.   0.  ]\n",
      " [0.   1.   0.  ]\n",
      " [0.01 0.99 0.  ]\n",
      " [0.   1.   0.  ]\n",
      " [0.   1.   0.  ]\n",
      " [0.   1.   0.  ]\n",
      " [0.   1.   0.  ]\n",
      " [0.   1.   0.  ]\n",
      " [0.   1.   0.  ]\n",
      " [0.   1.   0.  ]\n",
      " [0.   1.   0.  ]\n",
      " [0.32 0.   0.68]\n",
      " [0.53 0.   0.47]\n",
      " [0.31 0.   0.69]\n",
      " [0.95 0.   0.05]\n",
      " [0.56 0.   0.44]\n",
      " [0.87 0.   0.13]\n",
      " [0.47 0.   0.53]\n",
      " [0.99 0.   0.01]\n",
      " [0.59 0.   0.41]\n",
      " [0.95 0.   0.05]\n",
      " [0.99 0.   0.01]\n",
      " [0.78 0.   0.22]\n",
      " [0.93 0.   0.07]\n",
      " [0.72 0.   0.28]\n",
      " [0.9  0.   0.1 ]\n",
      " [0.5  0.   0.5 ]\n",
      " [0.82 0.   0.18]\n",
      " [0.92 0.   0.08]\n",
      " [0.66 0.   0.34]\n",
      " [0.95 0.   0.05]\n",
      " [0.58 0.   0.42]\n",
      " [0.83 0.   0.17]\n",
      " [0.58 0.   0.42]\n",
      " [0.79 0.   0.21]\n",
      " [0.7  0.   0.3 ]\n",
      " [0.56 0.   0.44]\n",
      " [0.43 0.   0.57]\n",
      " [0.3  0.   0.7 ]\n",
      " [0.75 0.   0.25]\n",
      " [0.95 0.   0.05]\n",
      " [0.97 0.   0.03]\n",
      " [0.97 0.   0.03]\n",
      " [0.91 0.   0.09]\n",
      " [0.65 0.   0.35]\n",
      " [0.85 0.   0.15]\n",
      " [0.53 0.   0.47]\n",
      " [0.42 0.   0.58]\n",
      " [0.76 0.   0.24]\n",
      " [0.86 0.   0.14]\n",
      " [0.94 0.   0.06]\n",
      " [0.93 0.   0.07]\n",
      " [0.71 0.   0.29]\n",
      " [0.92 0.   0.08]\n",
      " [0.99 0.   0.01]\n",
      " [0.91 0.   0.09]\n",
      " [0.85 0.   0.15]\n",
      " [0.87 0.   0.13]\n",
      " [0.76 0.   0.24]\n",
      " [0.98 0.   0.02]\n",
      " [0.89 0.   0.11]\n",
      " [0.07 0.   0.93]\n",
      " [0.6  0.   0.4 ]\n",
      " [0.03 0.   0.97]\n",
      " [0.31 0.   0.69]\n",
      " [0.09 0.   0.91]\n",
      " [0.   0.   1.  ]\n",
      " [0.95 0.   0.05]\n",
      " [0.02 0.   0.98]\n",
      " [0.07 0.   0.93]\n",
      " [0.01 0.   0.99]\n",
      " [0.24 0.   0.76]\n",
      " [0.25 0.   0.75]\n",
      " [0.08 0.   0.92]\n",
      " [0.59 0.   0.41]\n",
      " [0.34 0.   0.66]\n",
      " [0.15 0.   0.85]\n",
      " [0.25 0.   0.75]\n",
      " [0.   0.   1.  ]\n",
      " [0.   0.   1.  ]\n",
      " [0.64 0.   0.36]\n",
      " [0.04 0.   0.96]\n",
      " [0.68 0.   0.32]\n",
      " [0.   0.   1.  ]\n",
      " [0.44 0.   0.56]\n",
      " [0.1  0.   0.9 ]\n",
      " [0.05 0.   0.95]\n",
      " [0.52 0.   0.48]\n",
      " [0.54 0.   0.46]\n",
      " [0.14 0.   0.86]\n",
      " [0.08 0.   0.92]\n",
      " [0.01 0.   0.99]\n",
      " [0.01 0.   0.99]\n",
      " [0.11 0.   0.89]\n",
      " [0.56 0.   0.44]\n",
      " [0.58 0.   0.42]\n",
      " [0.   0.   1.  ]\n",
      " [0.12 0.   0.88]\n",
      " [0.29 0.   0.71]\n",
      " [0.6  0.   0.4 ]\n",
      " [0.08 0.   0.92]\n",
      " [0.05 0.   0.95]\n",
      " [0.07 0.   0.93]\n",
      " [0.6  0.   0.4 ]\n",
      " [0.04 0.   0.96]\n",
      " [0.04 0.   0.96]\n",
      " [0.08 0.   0.92]\n",
      " [0.31 0.   0.69]\n",
      " [0.22 0.   0.78]\n",
      " [0.19 0.   0.81]\n",
      " [0.59 0.   0.41]]\n"
     ]
    }
   ],
   "source": [
    "# Your code here:\n",
    "from sklearn.mixture import GaussianMixture\n",
    "gmm_builtin_model = GaussianMixture(n_components = 3)\n",
    "gmm_builtin_model.fit(features_PCA)\n",
    "print(np.round(gmm_builtin_model.predict_proba(features_PCA), decimals = 2))\n",
    "\n",
    "\n"
   ]
  },
  {
   "cell_type": "markdown",
   "metadata": {},
   "source": [
    "## Discussion\n",
    "\n",
    "What is Out-of-Bag Error in the random forest classifier?\n",
    "\n",
    "\n",
    "Do we require Feature Scaling for Decision Trees? Explain. \n",
    "\n",
    "\n",
    "What are the disadvantages of Information Gain?\n",
    "\n",
    "\n",
    "## 3. Bonus task \n",
    "\n",
    "**Task1:** For the above methods, it is highly interesting to work with the features directly without performing PCA. Compare performances of the methods with the results you obtained above with features_PCA.\n",
    "\n",
    "**Task2:** Perform a simple linear regression using `sklearn`'s built-in function on some randomly generated data. "
   ]
  },
  {
   "cell_type": "code",
   "execution_count": null,
   "metadata": {},
   "outputs": [],
   "source": [
    "# Your code here:\n",
    "\n"
   ]
  },
  {
   "cell_type": "markdown",
   "metadata": {},
   "source": [
    "## 4. Feedback Cell\n",
    "\n",
    "Hopefully you enjoyed this tutorial and learned some important classification methods used commonly in ML. Please leave your comments about what you liked/disliked in the session. Any suggestions are welcome!\n",
    "\n",
    "Your feedback:\n",
    "\n"
   ]
  }
 ],
 "metadata": {
  "kernelspec": {
   "display_name": "Python 3 (ipykernel)",
   "language": "python",
   "name": "python3"
  },
  "language_info": {
   "codemirror_mode": {
    "name": "ipython",
    "version": 3
   },
   "file_extension": ".py",
   "mimetype": "text/x-python",
   "name": "python",
   "nbconvert_exporter": "python",
   "pygments_lexer": "ipython3",
   "version": "3.9.6"
  }
 },
 "nbformat": 4,
 "nbformat_minor": 4
}
